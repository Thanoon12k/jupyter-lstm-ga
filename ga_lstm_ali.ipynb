{
 "cells": [
  {
   "cell_type": "code",
   "execution_count": 1,
   "id": "5b169ee5-9af7-43dd-ae0f-f7c7f7e10bab",
   "metadata": {},
   "outputs": [
    {
     "name": "stdout",
     "output_type": "stream",
     "text": [
      "WARNING:tensorflow:From D:\\python\\python3115\\Lib\\site-packages\\keras\\src\\losses.py:2976: The name tf.losses.sparse_softmax_cross_entropy is deprecated. Please use tf.compat.v1.losses.sparse_softmax_cross_entropy instead.\n",
      "\n"
     ]
    }
   ],
   "source": [
    "import numpy as np\n",
    "import pandas as pd\n",
    "import tensorflow as tf\n",
    "from tensorflow.keras.models import Sequential\n",
    "from tensorflow.keras.layers import LSTM, Dense,Dropout,BatchNormalization\n",
    "from tensorflow.keras.callbacks import EarlyStopping\n",
    "from sklearn.model_selection import train_test_split\n",
    "from sklearn.preprocessing import StandardScaler,minmax_scale,LabelEncoder"
   ]
  },
  {
   "cell_type": "code",
   "execution_count": 2,
   "id": "e89afc85-2ead-40eb-9d9c-183003063ccc",
   "metadata": {},
   "outputs": [],
   "source": [
    "df =pd.read_csv(\"resourcesxxx.csv\")\n"
   ]
  },
  {
   "cell_type": "code",
   "execution_count": 3,
   "id": "e8f50928-b8fe-4229-919e-609bf4d05a60",
   "metadata": {},
   "outputs": [
    {
     "name": "stdout",
     "output_type": "stream",
     "text": [
      "(720, 1, 14) (180, 1, 14)\n"
     ]
    }
   ],
   "source": [
    "X = df.drop(columns=['DataCenterID'])\n",
    "y = df['DataCenterID']\n",
    "\n",
    "scaler = StandardScaler()\n",
    "X_scaled = scaler.fit_transform(X)\n",
    "\n",
    "noise_factor = 0.15  # You can adjust this parameter based on your needs\n",
    "X_noisy = X_scaled + noise_factor * np.random.normal(size=X_scaled.shape)\n",
    "\n",
    "# Split data into training and validation sets\n",
    "X_train, X_val, y_train, y_val = train_test_split(X_scaled, y, test_size=0.2)\n",
    "\n",
    "\n",
    "X_train_lstm = X_train.reshape(X_train.shape[0], 1, X_train.shape[1])\n",
    "X_val_lstm = X_val.reshape(X_val.shape[0], 1, X_val.shape[1])\n",
    "\n",
    "print(X_train_lstm.shape,X_val_lstm.shape)"
   ]
  },
  {
   "cell_type": "code",
   "execution_count": 4,
   "id": "28e8a54f-e3f1-4480-a5d2-49b029b67855",
   "metadata": {},
   "outputs": [
    {
     "name": "stdout",
     "output_type": "stream",
     "text": [
      "WARNING:tensorflow:From D:\\python\\python3115\\Lib\\site-packages\\keras\\src\\backend.py:873: The name tf.get_default_graph is deprecated. Please use tf.compat.v1.get_default_graph instead.\n",
      "\n",
      "WARNING:tensorflow:From D:\\python\\python3115\\Lib\\site-packages\\keras\\src\\optimizers\\__init__.py:309: The name tf.train.Optimizer is deprecated. Please use tf.compat.v1.train.Optimizer instead.\n",
      "\n",
      "Model: \"sequential\"\n",
      "_________________________________________________________________\n",
      " Layer (type)                Output Shape              Param #   \n",
      "=================================================================\n",
      " lstm (LSTM)                 (None, 1, 50)             13000     \n",
      "                                                                 \n",
      " dropout (Dropout)           (None, 1, 50)             0         \n",
      "                                                                 \n",
      " lstm_1 (LSTM)               (None, 50)                20200     \n",
      "                                                                 \n",
      " batch_normalization (Batch  (None, 50)                200       \n",
      " Normalization)                                                  \n",
      "                                                                 \n",
      " dense (Dense)               (None, 3)                 153       \n",
      "                                                                 \n",
      "=================================================================\n",
      "Total params: 33553 (131.07 KB)\n",
      "Trainable params: 33453 (130.68 KB)\n",
      "Non-trainable params: 100 (400.00 Byte)\n",
      "_________________________________________________________________\n"
     ]
    }
   ],
   "source": [
    "model = Sequential()\n",
    "model.add(LSTM(units=50, input_shape=(1, X_train.shape[1]), return_sequences=True))\n",
    "model.add(Dropout(0.5))\n",
    "model.add(LSTM(units=50))\n",
    "model.add(BatchNormalization())  # Added Batch Normalization\n",
    "model.add(Dense(units=len(df['DataCenterID'].unique()), activation='softmax'))\n",
    "\n",
    "# Compile the model\n",
    "model.compile(optimizer='adam', loss='sparse_categorical_crossentropy', metrics=['accuracy'])\n",
    "model.summary()"
   ]
  },
  {
   "cell_type": "code",
   "execution_count": 5,
   "id": "ff9900b8-d6b4-4180-97ff-5e158f354e55",
   "metadata": {},
   "outputs": [
    {
     "name": "stdout",
     "output_type": "stream",
     "text": [
      "Epoch 1/50\n",
      "WARNING:tensorflow:From D:\\python\\python3115\\Lib\\site-packages\\keras\\src\\utils\\tf_utils.py:492: The name tf.ragged.RaggedTensorValue is deprecated. Please use tf.compat.v1.ragged.RaggedTensorValue instead.\n",
      "\n",
      "WARNING:tensorflow:From D:\\python\\python3115\\Lib\\site-packages\\keras\\src\\engine\\base_layer_utils.py:384: The name tf.executing_eagerly_outside_functions is deprecated. Please use tf.compat.v1.executing_eagerly_outside_functions instead.\n",
      "\n",
      "38/38 - 9s - loss: 0.6386 - accuracy: 0.7694 - val_loss: 0.9996 - val_accuracy: 1.0000 - 9s/epoch - 241ms/step\n",
      "Epoch 2/50\n",
      "38/38 - 0s - loss: 0.1176 - accuracy: 0.9889 - val_loss: 0.9005 - val_accuracy: 0.9944 - 305ms/epoch - 8ms/step\n",
      "Epoch 3/50\n",
      "38/38 - 0s - loss: 0.0483 - accuracy: 0.9986 - val_loss: 0.7988 - val_accuracy: 1.0000 - 275ms/epoch - 7ms/step\n",
      "Epoch 4/50\n",
      "38/38 - 0s - loss: 0.0277 - accuracy: 0.9972 - val_loss: 0.6946 - val_accuracy: 1.0000 - 274ms/epoch - 7ms/step\n",
      "Epoch 5/50\n",
      "38/38 - 0s - loss: 0.0223 - accuracy: 1.0000 - val_loss: 0.5773 - val_accuracy: 1.0000 - 292ms/epoch - 8ms/step\n",
      "Epoch 6/50\n",
      "38/38 - 0s - loss: 0.0188 - accuracy: 0.9972 - val_loss: 0.4540 - val_accuracy: 1.0000 - 260ms/epoch - 7ms/step\n",
      "Epoch 7/50\n",
      "38/38 - 0s - loss: 0.0170 - accuracy: 0.9986 - val_loss: 0.3298 - val_accuracy: 1.0000 - 282ms/epoch - 7ms/step\n",
      "Epoch 8/50\n",
      "38/38 - 0s - loss: 0.0131 - accuracy: 0.9972 - val_loss: 0.2204 - val_accuracy: 1.0000 - 261ms/epoch - 7ms/step\n",
      "Epoch 9/50\n",
      "38/38 - 0s - loss: 0.0065 - accuracy: 1.0000 - val_loss: 0.1356 - val_accuracy: 1.0000 - 273ms/epoch - 7ms/step\n",
      "Epoch 10/50\n",
      "38/38 - 0s - loss: 0.0099 - accuracy: 0.9972 - val_loss: 0.0740 - val_accuracy: 1.0000 - 290ms/epoch - 8ms/step\n"
     ]
    }
   ],
   "source": [
    "\n",
    "early_stopping = EarlyStopping(monitor='accuracy', patience=5, restore_best_weights=True)\n",
    "\n",
    "history=model.fit(X_train_lstm, y_train, epochs=50, batch_size=19, validation_data=(X_val_lstm, y_val), callbacks=[early_stopping],verbose=2)\n"
   ]
  },
  {
   "cell_type": "code",
   "execution_count": 6,
   "id": "dc0e1d85-7e95-4df8-ad13-af2cfa6d5f32",
   "metadata": {},
   "outputs": [],
   "source": [
    "# model = Sequential()\n",
    "# model.add(LSTM(units=128, return_sequences=True, input_shape=(1, X_train_lstm.shape[2])))\n",
    "# model.add(LSTM(units=64, return_sequences=True))\n",
    "# model.add(LSTM(units=64))\n",
    "# model.add(Dense(units=1))\n",
    "# model.compile(loss='accuracy', optimizer='adam')\n",
    "# model.fit(X_train_lstm, y_train, epochs=10, batch_size=1, verbose=2)\n"
   ]
  },
  {
   "cell_type": "code",
   "execution_count": 7,
   "id": "975b2a06-5509-40ea-ad03-40c6bd4a2877",
   "metadata": {},
   "outputs": [
    {
     "ename": "NameError",
     "evalue": "name 'plt' is not defined",
     "output_type": "error",
     "traceback": [
      "\u001b[1;31m---------------------------------------------------------------------------\u001b[0m",
      "\u001b[1;31mNameError\u001b[0m                                 Traceback (most recent call last)",
      "Cell \u001b[1;32mIn[7], line 1\u001b[0m\n\u001b[1;32m----> 1\u001b[0m \u001b[43mplt\u001b[49m\u001b[38;5;241m.\u001b[39mplot(history\u001b[38;5;241m.\u001b[39mhistory[\u001b[38;5;124m'\u001b[39m\u001b[38;5;124mloss\u001b[39m\u001b[38;5;124m'\u001b[39m])\n\u001b[0;32m      2\u001b[0m plt\u001b[38;5;241m.\u001b[39mtitle(\u001b[38;5;124m'\u001b[39m\u001b[38;5;124mModel Loss\u001b[39m\u001b[38;5;124m'\u001b[39m)\n\u001b[0;32m      3\u001b[0m plt\u001b[38;5;241m.\u001b[39mylabel(\u001b[38;5;124m'\u001b[39m\u001b[38;5;124mLoss\u001b[39m\u001b[38;5;124m'\u001b[39m)\n",
      "\u001b[1;31mNameError\u001b[0m: name 'plt' is not defined"
     ]
    }
   ],
   "source": [
    "plt.plot(history.history['loss'])\n",
    "plt.title('Model Loss')\n",
    "plt.ylabel('Loss')\n",
    "plt.xlabel('Epoch')\n",
    "plt.show()"
   ]
  },
  {
   "cell_type": "code",
   "execution_count": null,
   "id": "4d2ebf1b-e42f-457d-a6a0-37058920a75e",
   "metadata": {},
   "outputs": [],
   "source": []
  },
  {
   "cell_type": "code",
   "execution_count": null,
   "id": "7c75196d-271d-44c1-802d-c123b0e5ab14",
   "metadata": {},
   "outputs": [],
   "source": []
  }
 ],
 "metadata": {
  "kernelspec": {
   "display_name": ".venv3",
   "language": "python",
   "name": ".venv3"
  },
  "language_info": {
   "codemirror_mode": {
    "name": "ipython",
    "version": 3
   },
   "file_extension": ".py",
   "mimetype": "text/x-python",
   "name": "python",
   "nbconvert_exporter": "python",
   "pygments_lexer": "ipython3",
   "version": "3.11.5"
  }
 },
 "nbformat": 4,
 "nbformat_minor": 5
}
