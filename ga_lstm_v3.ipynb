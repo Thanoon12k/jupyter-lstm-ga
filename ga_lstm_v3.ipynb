{
 "cells": [
  {
   "cell_type": "code",
   "execution_count": 22,
   "id": "5b169ee5-9af7-43dd-ae0f-f7c7f7e10bab",
   "metadata": {},
   "outputs": [],
   "source": [
    "import pandas as pd\n",
    "import numpy as np\n",
    "from sklearn.model_selection import train_test_split\n",
    "from sklearn.preprocessing import StandardScaler\n",
    "from keras.models import Sequential\n",
    "from keras.layers import LSTM, Dense , Dropout\n",
    "import seaborn as sns\n",
    "import matplotlib.pyplot as plt\n",
    "from sklearn.metrics import accuracy_score, classification_report, confusion_matrix\n",
    "from keras.models import save_model, load_model\n",
    "\n"
   ]
  },
  {
   "cell_type": "code",
   "execution_count": 45,
   "id": "e89afc85-2ead-40eb-9d9c-183003063ccc",
   "metadata": {},
   "outputs": [
    {
     "name": "stdout",
     "output_type": "stream",
     "text": [
      "(900, 14)\n",
      "TaskID                       12.00\n",
      "StartTime                     0.10\n",
      "TaskFileSize                 62.00\n",
      "TaskOutputFileSize           18.00\n",
      "TaskFileLength               17.00\n",
      "DistanceFromDataCenter    10168.00\n",
      "DataCenterCpuCost            12.00\n",
      "DataCenterRamCost            10.00\n",
      "DataCenterStorageCost         2.00\n",
      "DataCenterBwCost              1.00\n",
      "DataCenterTotalLoad       16327.00\n",
      "NetworkDelay                  1.16\n",
      "CET                         718.00\n",
      "ObjectiveFunction         11837.11\n",
      "Name: 1, dtype: float64\n"
     ]
    }
   ],
   "source": [
    "df = pd.read_csv('resourcesxxx.csv')\n",
    "\n",
    "# Extract features and target\n",
    "X = df.drop(columns=['DataCenterID'])\n",
    "y = df['DataCenterID']\n",
    "\n",
    "# Standardize features\n",
    "scaler = StandardScaler()\n",
    "X_scaled = scaler.fit_transform(X)\n",
    "\n",
    "noise_factor = 0.05  # You can adjust this parameter based on your needs\n",
    "X_noisy = X_scaled + noise_factor * np.random.normal(size=X_scaled.shape)\n",
    "\n",
    "# Split data into training and validation sets\n",
    "X_train, X_val, y_train, y_val = train_test_split(X_noisy, y, test_size=0.2, random_state=42)\n",
    "print(X.shape)\n",
    "print(X.iloc[1])\n"
   ]
  },
  {
   "cell_type": "code",
   "execution_count": 4,
   "id": "e8f50928-b8fe-4229-919e-609bf4d05a60",
   "metadata": {},
   "outputs": [],
   "source": [
    "from sklearn.preprocessing import LabelEncoder\n",
    "\n",
    "label_encoder = LabelEncoder()\n",
    "y_train_encoded = label_encoder.fit_transform(y_train)\n",
    "y_val_encoded = label_encoder.transform(y_val)"
   ]
  },
  {
   "cell_type": "code",
   "execution_count": 29,
   "id": "28e8a54f-e3f1-4480-a5d2-49b029b67855",
   "metadata": {},
   "outputs": [
    {
     "name": "stdout",
     "output_type": "stream",
     "text": [
      "[[-0.9120923  -0.29304042 -0.82238969 -0.73501241 -0.53149879  0.66886263\n",
      "  -1.01515877  1.31764899 -0.75977462 -1.47512645  1.00634964 -0.79156272\n",
      "  -0.99091673 -0.56128121]]\n",
      "Epoch 1/20\n",
      "23/23 [==============================] - 6s 66ms/step - loss: 1.1192 - accuracy: 0.3319 - val_loss: 1.0943 - val_accuracy: 0.3111\n",
      "Epoch 2/20\n",
      "23/23 [==============================] - 0s 8ms/step - loss: 1.0905 - accuracy: 0.3861 - val_loss: 1.0500 - val_accuracy: 0.6278\n",
      "Epoch 3/20\n",
      "23/23 [==============================] - 0s 7ms/step - loss: 1.0313 - accuracy: 0.4264 - val_loss: 0.9628 - val_accuracy: 0.6556\n",
      "Epoch 4/20\n",
      "23/23 [==============================] - 0s 10ms/step - loss: 0.9713 - accuracy: 0.4111 - val_loss: 0.8914 - val_accuracy: 0.6778\n",
      "Epoch 5/20\n",
      "23/23 [==============================] - 0s 9ms/step - loss: 0.9062 - accuracy: 0.5139 - val_loss: 0.8458 - val_accuracy: 0.6778\n",
      "Epoch 6/20\n",
      "23/23 [==============================] - 0s 9ms/step - loss: 0.8805 - accuracy: 0.5694 - val_loss: 0.8182 - val_accuracy: 0.6778\n",
      "Epoch 7/20\n",
      "23/23 [==============================] - 0s 9ms/step - loss: 0.8735 - accuracy: 0.5472 - val_loss: 0.7993 - val_accuracy: 0.6778\n",
      "Epoch 8/20\n",
      "23/23 [==============================] - 0s 9ms/step - loss: 0.8536 - accuracy: 0.5319 - val_loss: 0.7845 - val_accuracy: 0.9056\n",
      "Epoch 9/20\n",
      "23/23 [==============================] - 0s 9ms/step - loss: 0.8544 - accuracy: 0.4861 - val_loss: 0.7720 - val_accuracy: 0.7556\n",
      "Epoch 10/20\n",
      "23/23 [==============================] - 0s 9ms/step - loss: 0.8289 - accuracy: 0.5125 - val_loss: 0.7599 - val_accuracy: 0.7389\n",
      "Epoch 11/20\n",
      "23/23 [==============================] - 0s 8ms/step - loss: 0.8471 - accuracy: 0.6556 - val_loss: 0.7474 - val_accuracy: 0.9389\n",
      "Epoch 12/20\n",
      "23/23 [==============================] - 0s 8ms/step - loss: 0.8266 - accuracy: 0.6681 - val_loss: 0.7319 - val_accuracy: 1.0000\n",
      "Epoch 13/20\n",
      "23/23 [==============================] - 0s 8ms/step - loss: 0.8210 - accuracy: 0.6639 - val_loss: 0.7066 - val_accuracy: 1.0000\n",
      "Epoch 14/20\n",
      "23/23 [==============================] - 0s 8ms/step - loss: 0.8035 - accuracy: 0.6583 - val_loss: 0.6728 - val_accuracy: 1.0000\n",
      "Epoch 15/20\n",
      "23/23 [==============================] - 0s 8ms/step - loss: 0.7346 - accuracy: 0.6944 - val_loss: 0.6434 - val_accuracy: 1.0000\n",
      "Epoch 16/20\n",
      "23/23 [==============================] - 0s 8ms/step - loss: 0.7649 - accuracy: 0.6500 - val_loss: 0.6187 - val_accuracy: 1.0000\n",
      "Epoch 17/20\n",
      "23/23 [==============================] - 0s 8ms/step - loss: 0.7047 - accuracy: 0.6889 - val_loss: 0.5961 - val_accuracy: 1.0000\n",
      "Epoch 18/20\n",
      "23/23 [==============================] - 0s 7ms/step - loss: 0.7203 - accuracy: 0.6583 - val_loss: 0.5761 - val_accuracy: 1.0000\n",
      "Epoch 19/20\n",
      "23/23 [==============================] - 0s 8ms/step - loss: 0.7172 - accuracy: 0.6514 - val_loss: 0.5586 - val_accuracy: 1.0000\n",
      "Epoch 20/20\n",
      "23/23 [==============================] - 0s 8ms/step - loss: 0.6925 - accuracy: 0.6722 - val_loss: 0.5428 - val_accuracy: 1.0000\n"
     ]
    },
    {
     "data": {
      "text/plain": [
       "<keras.src.callbacks.History at 0x21084a308d0>"
      ]
     },
     "execution_count": 29,
     "metadata": {},
     "output_type": "execute_result"
    }
   ],
   "source": [
    "# Reshape data for LSTM input (assuming a time series sequence length of 1)\n",
    "X_train_lstm = X_train.reshape(X_train.shape[0], 1, X_train.shape[1])\n",
    "X_val_lstm = X_val.reshape(X_val.shape[0], 1, X_val.shape[1])\n",
    "print(X_train_lstm[1])\n",
    "# Define the LSTM model\n",
    "model = Sequential()\n",
    "from keras.regularizers import l2\n",
    "\n",
    "model.add(LSTM(units=50, input_shape=(1, X_train.shape[1]), return_sequences=True))\n",
    "model.add(LSTM(units=50))\n",
    "model.add(Dense(units=len(df['DataCenterID'].unique()), activation='softmax'))\n",
    "model.add(Dropout(0.5))\n",
    "num_classes = len(df['DataCenterID'].unique())\n",
    "model.add(Dense(units=num_classes, activation='softmax'))\n",
    "# Compile the model\n",
    "model.compile(optimizer='adam', loss='sparse_categorical_crossentropy', metrics=['accuracy'])\n",
    "\n",
    "from keras.callbacks import EarlyStopping\n",
    "\n",
    "early_stopping = EarlyStopping(monitor='val_loss', patience=5, restore_best_weights=True)\n",
    "\n",
    "model.fit(X_train_lstm, y_train, epochs=20, batch_size=32, validation_data=(X_val_lstm, y_val), callbacks=[early_stopping])\n"
   ]
  },
  {
   "cell_type": "code",
   "execution_count": 30,
   "id": "ff9900b8-d6b4-4180-97ff-5e158f354e55",
   "metadata": {},
   "outputs": [
    {
     "name": "stdout",
     "output_type": "stream",
     "text": [
      "6/6 [==============================] - 0s 4ms/step - loss: 0.5428 - accuracy: 1.0000\n",
      "Test Loss: 0.5428\n",
      "Test Accuracy: 100.00%\n",
      "6/6 [==============================] - 1s 5ms/step\n",
      "(180, 1, 14)\n",
      "[[ 1.54219933  0.68110256  0.91907866  1.31762261 -1.08799205  1.59331108\n",
      "   1.42833514 -0.93912855 -0.69774369  0.62223205 -1.50330198 -0.59462759\n",
      "   0.55960089  0.25098257]]\n"
     ]
    }
   ],
   "source": [
    "\n",
    "# Assuming you have your X_test and y_test prepared similarly to X_train and y_train\n",
    "X_test_lstm = X_val.reshape(X_val.shape[0], 1, X_val.shape[1])\n",
    "\n",
    "# Evaluate the model on the test set\n",
    "loss, accuracy = model.evaluate(X_test_lstm, y_val)\n",
    "print(f'Test Loss: {loss:.4f}')\n",
    "print(f'Test Accuracy: {accuracy*100:.2f}%')\n",
    "\n",
    "# Make predictions on the test set\n",
    "y_pred = model.predict(X_test_lstm)\n",
    "# Convert the predicted probabilities to class labels\n",
    "y_pred_classes = np.argmax(y_pred, axis=1)\n",
    "print(X_test_lstm.shape)\n",
    "print(X_test_lstm[1])"
   ]
  },
  {
   "cell_type": "code",
   "execution_count": 18,
   "id": "cc415ae0-bdac-4fa2-90c4-2077a5a5b11b",
   "metadata": {},
   "outputs": [
    {
     "name": "stdout",
     "output_type": "stream",
     "text": [
      "\n",
      "Classification Report:\n",
      "              precision    recall  f1-score   support\n",
      "\n",
      "           0       1.00      1.00      1.00        66\n",
      "           1       1.00      1.00      1.00        56\n",
      "           2       1.00      1.00      1.00        58\n",
      "\n",
      "    accuracy                           1.00       180\n",
      "   macro avg       1.00      1.00      1.00       180\n",
      "weighted avg       1.00      1.00      1.00       180\n",
      "\n"
     ]
    },
    {
     "data": {
      "image/png": "[encoded data removed]",
      "text/plain": [
       "<Figure size 800x600 with 2 Axes>"
      ]
     },
     "metadata": {},
     "output_type": "display_data"
    }
   ],
   "source": [
    "print(\"\\nClassification Report:\")\n",
    "print(classification_report(y_val, y_pred_classes))\n",
    "\n",
    "# Create a confusion matrix\n",
    "cm = confusion_matrix(y_val, y_pred_classes)\n",
    "\n",
    "# Create a colorful confusion matrix using seaborn\n",
    "plt.figure(figsize=(8, 6))\n",
    "sns.heatmap(cm, annot=True, fmt='g', cmap='Blues', xticklabels=np.unique(y_val), yticklabels=np.unique(y_val))\n",
    "plt.title('Confusion Matrix')\n",
    "plt.xlabel('Predicted')\n",
    "plt.ylabel('Actual')\n",
    "plt.show()\n"
   ]
  },
  {
   "cell_type": "code",
   "execution_count": 64,
   "id": "186c0b11-06a0-4bb9-b02e-fcdfece4e72f",
   "metadata": {},
   "outputs": [
    {
     "name": "stdout",
     "output_type": "stream",
     "text": [
      "1/1 [==============================] - 1s 1s/step\n",
      "Predicted DataCenterID: 2\n"
     ]
    }
   ],
   "source": [
    "\n",
    "# Save the model\n",
    "model.save('lstm64.keras')\n",
    "\n",
    "# Load the saved model\n",
    "loaded_model = load_model('lstm64.keras')\n",
    "\n",
    "# Assuming input_data is a NumPy array\n",
    "input_data = np.array([[0.1, 55, 0, 0, 0, 0, 0, 0, 0, 0, 5000, 1.16, 718, 22.11]])\n",
    "\n",
    "# Reshape the input data to match the LSTM input shape\n",
    "input_data_lstm = input_data.reshape(input_data.shape[0], 1, input_data.shape[1])\n",
    "\n",
    "# Make predictions using the loaded model\n",
    "predicted_probabilities = loaded_model.predict(input_data_lstm)\n",
    "predicted_class = np.argmax(predicted_probabilities, axis=1)\n",
    "\n",
    "print(f\"Predicted DataCenterID: {predicted_class[0]}\")\n"
   ]
  },
  {
   "cell_type": "code",
   "execution_count": null,
   "id": "3d766caa-427c-4219-a9f4-dfcabba3d98b",
   "metadata": {},
   "outputs": [],
   "source": []
  }
 ],
 "metadata": {
  "kernelspec": {
   "display_name": ".venv3",
   "language": "python",
   "name": ".venv3"
  },
  "language_info": {
   "codemirror_mode": {
    "name": "ipython",
    "version": 3
   },
   "file_extension": ".py",
   "mimetype": "text/x-python",
   "name": "python",
   "nbconvert_exporter": "python",
   "pygments_lexer": "ipython3",
   "version": "3.11.5"
  }
 },
 "nbformat": 4,
 "nbformat_minor": 5
}
